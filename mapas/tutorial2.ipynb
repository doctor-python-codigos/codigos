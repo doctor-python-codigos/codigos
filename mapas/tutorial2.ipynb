{
  "nbformat": 4,
  "nbformat_minor": 0,
  "metadata": {
    "colab": {
      "name": "tutorial2.ipynb",
      "provenance": [],
      "toc_visible": true
    },
    "kernelspec": {
      "name": "python3",
      "display_name": "Python 3"
    }
  },
  "cells": [
    {
      "cell_type": "markdown",
      "metadata": {
        "id": "wFT1q1-SJWzp",
        "colab_type": "text"
      },
      "source": [
        "# Eso es un tutorial\n",
        "Importar Librerias"
      ]
    },
    {
      "cell_type": "code",
      "metadata": {
        "id": "DbinBqWoJBt0",
        "colab_type": "code",
        "colab": {}
      },
      "source": [
        "import folium\n",
        "import pandas as pd"
      ],
      "execution_count": 0,
      "outputs": []
    },
    {
      "cell_type": "code",
      "metadata": {
        "id": "1-d9G83RJ4o8",
        "colab_type": "code",
        "colab": {
          "base_uri": "https://localhost:8080/",
          "height": 830
        },
        "outputId": "07d01bb5-5d03-4ae1-ee21-eb5d498b54d0"
      },
      "source": [
        "map = folium.Map (location=[20 , 0], zoom_start=8)\n",
        "map"
      ],
      "execution_count": 4,
      "outputs": [
        {
          "output_type": "execute_result",
          "data": {
            "text/html": [
              "<div style=\"width:100%;\"><div style=\"position:relative;width:100%;height:0;padding-bottom:60%;\"><span style=\"color:#565656\">Make this Notebook Trusted to load map: File -> Trust Notebook</span><iframe src=\"about:blank\" style=\"position:absolute;width:100%;height:100%;left:0;top:0;border:none !important;\" data-html=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 onload=\"this.contentDocument.open();this.contentDocument.write(atob(this.getAttribute('data-html')));this.contentDocument.close();\" allowfullscreen webkitallowfullscreen mozallowfullscreen></iframe></div></div>"
            ],
            "text/plain": [
              "<folium.folium.Map at 0x7fb9a6f1fb70>"
            ]
          },
          "metadata": {
            "tags": []
          },
          "execution_count": 4
        }
      ]
    },
    {
      "cell_type": "code",
      "metadata": {
        "id": "6u-xBW8oKMh0",
        "colab_type": "code",
        "colab": {
          "base_uri": "https://localhost:8080/",
          "height": 830
        },
        "outputId": "d6507f2a-3d25-43c2-925e-68d23cb1da35"
      },
      "source": [
        "map = folium.Map(location=[-2.0101, -78.848], zoom_start=8)\n",
        "map"
      ],
      "execution_count": 5,
      "outputs": [
        {
          "output_type": "execute_result",
          "data": {
            "text/html": [
              "<div style=\"width:100%;\"><div style=\"position:relative;width:100%;height:0;padding-bottom:60%;\"><span style=\"color:#565656\">Make this Notebook Trusted to load map: File -> Trust Notebook</span><iframe src=\"about:blank\" style=\"position:absolute;width:100%;height:100%;left:0;top:0;border:none !important;\" data-html=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 onload=\"this.contentDocument.open();this.contentDocument.write(atob(this.getAttribute('data-html')));this.contentDocument.close();\" allowfullscreen webkitallowfullscreen mozallowfullscreen></iframe></div></div>"
            ],
            "text/plain": [
              "<folium.folium.Map at 0x7fb9a6e2e908>"
            ]
          },
          "metadata": {
            "tags": []
          },
          "execution_count": 5
        }
      ]
    },
    {
      "cell_type": "code",
      "metadata": {
        "id": "sMBQnWzOKb4S",
        "colab_type": "code",
        "colab": {
          "base_uri": "https://localhost:8080/",
          "height": 323
        },
        "outputId": "62ec3940-1ff7-4172-8375-2b75ef18e57c"
      },
      "source": [
        "info_montana = pd.read_csv('mountain_ecuador.csv')\n",
        "info_montana"
      ],
      "execution_count": 6,
      "outputs": [
        {
          "output_type": "execute_result",
          "data": {
            "text/html": [
              "<div>\n",
              "<style scoped>\n",
              "    .dataframe tbody tr th:only-of-type {\n",
              "        vertical-align: middle;\n",
              "    }\n",
              "\n",
              "    .dataframe tbody tr th {\n",
              "        vertical-align: top;\n",
              "    }\n",
              "\n",
              "    .dataframe thead th {\n",
              "        text-align: right;\n",
              "    }\n",
              "</style>\n",
              "<table border=\"1\" class=\"dataframe\">\n",
              "  <thead>\n",
              "    <tr style=\"text-align: right;\">\n",
              "      <th></th>\n",
              "      <th>Montaña</th>\n",
              "      <th>Latitud</th>\n",
              "      <th>Longitud</th>\n",
              "      <th>Elevacion</th>\n",
              "    </tr>\n",
              "  </thead>\n",
              "  <tbody>\n",
              "    <tr>\n",
              "      <th>0</th>\n",
              "      <td>CHIMBORAZO</td>\n",
              "      <td>-1.4693</td>\n",
              "      <td>-78.8169</td>\n",
              "      <td>6268</td>\n",
              "    </tr>\n",
              "    <tr>\n",
              "      <th>1</th>\n",
              "      <td>COTOPAXI</td>\n",
              "      <td>-0.6838</td>\n",
              "      <td>-78.4372</td>\n",
              "      <td>5897</td>\n",
              "    </tr>\n",
              "    <tr>\n",
              "      <th>2</th>\n",
              "      <td>CAYAMBE</td>\n",
              "      <td>-0.0250</td>\n",
              "      <td>-77.9892</td>\n",
              "      <td>5790</td>\n",
              "    </tr>\n",
              "    <tr>\n",
              "      <th>3</th>\n",
              "      <td>ANTISANA</td>\n",
              "      <td>-0.4849</td>\n",
              "      <td>-78.1417</td>\n",
              "      <td>5704</td>\n",
              "    </tr>\n",
              "    <tr>\n",
              "      <th>4</th>\n",
              "      <td>ALTAR</td>\n",
              "      <td>-1.6705</td>\n",
              "      <td>-78.4183</td>\n",
              "      <td>5319</td>\n",
              "    </tr>\n",
              "    <tr>\n",
              "      <th>5</th>\n",
              "      <td>SANGAY</td>\n",
              "      <td>-2.0142</td>\n",
              "      <td>-78.3273</td>\n",
              "      <td>5300</td>\n",
              "    </tr>\n",
              "    <tr>\n",
              "      <th>6</th>\n",
              "      <td>ILINIZAS</td>\n",
              "      <td>-0.6633</td>\n",
              "      <td>-78.7150</td>\n",
              "      <td>5248</td>\n",
              "    </tr>\n",
              "    <tr>\n",
              "      <th>7</th>\n",
              "      <td>TUNGURAHUA</td>\n",
              "      <td>-1.4702</td>\n",
              "      <td>-78.4448</td>\n",
              "      <td>5023</td>\n",
              "    </tr>\n",
              "    <tr>\n",
              "      <th>8</th>\n",
              "      <td>CARIHUAIRAZO</td>\n",
              "      <td>-1.4043</td>\n",
              "      <td>-78.7545</td>\n",
              "      <td>5018</td>\n",
              "    </tr>\n",
              "  </tbody>\n",
              "</table>\n",
              "</div>"
            ],
            "text/plain": [
              "        Montaña  Latitud  Longitud  Elevacion\n",
              "0    CHIMBORAZO  -1.4693  -78.8169       6268\n",
              "1      COTOPAXI  -0.6838  -78.4372       5897\n",
              "2       CAYAMBE  -0.0250  -77.9892       5790\n",
              "3      ANTISANA  -0.4849  -78.1417       5704\n",
              "4         ALTAR  -1.6705  -78.4183       5319\n",
              "5        SANGAY  -2.0142  -78.3273       5300\n",
              "6      ILINIZAS  -0.6633  -78.7150       5248\n",
              "7    TUNGURAHUA  -1.4702  -78.4448       5023\n",
              "8  CARIHUAIRAZO  -1.4043  -78.7545       5018"
            ]
          },
          "metadata": {
            "tags": []
          },
          "execution_count": 6
        }
      ]
    },
    {
      "cell_type": "code",
      "metadata": {
        "id": "noodAnyELB1Z",
        "colab_type": "code",
        "colab": {
          "base_uri": "https://localhost:8080/",
          "height": 830
        },
        "outputId": "4ef829f6-b5b2-4fb2-eded-03730b3e82ea"
      },
      "source": [
        "map = folium.Map(location=[-2.0101, -78.848], zoom_start=8, tiles = 'Stamen Terrain')\n",
        "for i in range (0, len(info_montana)):\n",
        "\n",
        "  Nombre = info_montana.iloc[i]['Montaña']\n",
        "  Latitud =  info_montana.iloc[i]['Latitud']\n",
        "  Longitud =  info_montana.iloc[i]['Longitud']\n",
        "  Elevacion = info_montana.iloc[i]['Elevacion']\n",
        "\n",
        "  folium.Marker(\n",
        "      location=[float(Latitud), float(Longitud)],\n",
        "      tooltip= Nombre,\n",
        "      popup = f'Elevacion: {Elevacion} metros',\n",
        "      icon = folium.Icon(color ='blue', icon='info-sign' )\n",
        "      ). add_to(map)\n",
        "\n",
        "  if Nombre == \"CHIMBORAZO\":\n",
        "    folium.Circle(\n",
        "        radius = 10_000,\n",
        "        location = [float (Latitud), float (Longitud)],\n",
        "        color='crimson',\n",
        "        fill=True,\n",
        "        fill_color='crimson').add_to(map)\n",
        "map\n",
        "  \n"
      ],
      "execution_count": 11,
      "outputs": [
        {
          "output_type": "execute_result",
          "data": {
            "text/html": [
              "<div style=\"width:100%;\"><div style=\"position:relative;width:100%;height:0;padding-bottom:60%;\"><span style=\"color:#565656\">Make this Notebook Trusted to load map: File -> Trust Notebook</span><iframe src=\"about:blank\" style=\"position:absolute;width:100%;height:100%;left:0;top:0;border:none !important;\" data-html=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 onload=\"this.contentDocument.open();this.contentDocument.write(atob(this.getAttribute('data-html')));this.contentDocument.close();\" allowfullscreen webkitallowfullscreen mozallowfullscreen></iframe></div></div>"
            ],
            "text/plain": [
              "<folium.folium.Map at 0x7fb9a4d64908>"
            ]
          },
          "metadata": {
            "tags": []
          },
          "execution_count": 11
        }
      ]
    }
  ]
}